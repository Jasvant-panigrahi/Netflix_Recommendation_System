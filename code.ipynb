{
 "cells": [
  {
   "cell_type": "code",
   "execution_count": 1,
   "id": "a92e7aa7",
   "metadata": {},
   "outputs": [
    {
     "data": {
      "text/plain": [
       "'C:\\\\Users\\\\jasva\\\\Netflix Recommendation System'"
      ]
     },
     "execution_count": 1,
     "metadata": {},
     "output_type": "execute_result"
    }
   ],
   "source": [
    "import os \n",
    "os.getcwd()"
   ]
  },
  {
   "cell_type": "code",
   "execution_count": 2,
   "id": "4d6bb277",
   "metadata": {},
   "outputs": [],
   "source": [
    "import numpy as np \n",
    "import pandas as pd \n",
    "from sklearn.feature_extraction import text \n",
    "from sklearn.metrics.pairwise import cosine_similarity # use for recommend"
   ]
  },
  {
   "cell_type": "code",
   "execution_count": 3,
   "id": "161e1a80",
   "metadata": {},
   "outputs": [
    {
     "data": {
      "text/html": [
       "<div>\n",
       "<style scoped>\n",
       "    .dataframe tbody tr th:only-of-type {\n",
       "        vertical-align: middle;\n",
       "    }\n",
       "\n",
       "    .dataframe tbody tr th {\n",
       "        vertical-align: top;\n",
       "    }\n",
       "\n",
       "    .dataframe thead th {\n",
       "        text-align: right;\n",
       "    }\n",
       "</style>\n",
       "<table border=\"1\" class=\"dataframe\">\n",
       "  <thead>\n",
       "    <tr style=\"text-align: right;\">\n",
       "      <th></th>\n",
       "      <th>Show Id</th>\n",
       "      <th>Title</th>\n",
       "      <th>Description</th>\n",
       "      <th>Director</th>\n",
       "      <th>Genres</th>\n",
       "      <th>Cast</th>\n",
       "      <th>Production Country</th>\n",
       "      <th>Release Date</th>\n",
       "      <th>Rating</th>\n",
       "      <th>Duration</th>\n",
       "      <th>Imdb Score</th>\n",
       "      <th>Content Type</th>\n",
       "      <th>Date Added</th>\n",
       "    </tr>\n",
       "  </thead>\n",
       "  <tbody>\n",
       "    <tr>\n",
       "      <th>0</th>\n",
       "      <td>cc1b6ed9-cf9e-4057-8303-34577fb54477</td>\n",
       "      <td>(Un)Well</td>\n",
       "      <td>This docuseries takes a deep dive into the luc...</td>\n",
       "      <td>NaN</td>\n",
       "      <td>Reality TV</td>\n",
       "      <td>NaN</td>\n",
       "      <td>United States</td>\n",
       "      <td>2020.0</td>\n",
       "      <td>TV-MA</td>\n",
       "      <td>1 Season</td>\n",
       "      <td>6.6/10</td>\n",
       "      <td>TV Show</td>\n",
       "      <td>NaN</td>\n",
       "    </tr>\n",
       "    <tr>\n",
       "      <th>1</th>\n",
       "      <td>e2ef4e91-fb25-42ab-b485-be8e3b23dedb</td>\n",
       "      <td>#Alive</td>\n",
       "      <td>As a grisly virus rampages a city, a lone man ...</td>\n",
       "      <td>Cho Il</td>\n",
       "      <td>Horror Movies, International Movies, Thrillers</td>\n",
       "      <td>Yoo Ah-in, Park Shin-hye</td>\n",
       "      <td>South Korea</td>\n",
       "      <td>2020.0</td>\n",
       "      <td>TV-MA</td>\n",
       "      <td>99 min</td>\n",
       "      <td>6.2/10</td>\n",
       "      <td>Movie</td>\n",
       "      <td>September 8, 2020</td>\n",
       "    </tr>\n",
       "    <tr>\n",
       "      <th>2</th>\n",
       "      <td>b01b73b7-81f6-47a7-86d8-acb63080d525</td>\n",
       "      <td>#AnneFrank - Parallel Stories</td>\n",
       "      <td>Through her diary, Anne Frank's story is retol...</td>\n",
       "      <td>Sabina Fedeli, Anna Migotto</td>\n",
       "      <td>Documentaries, International Movies</td>\n",
       "      <td>Helen Mirren, Gengher Gatti</td>\n",
       "      <td>Italy</td>\n",
       "      <td>2019.0</td>\n",
       "      <td>TV-14</td>\n",
       "      <td>95 min</td>\n",
       "      <td>6.4/10</td>\n",
       "      <td>Movie</td>\n",
       "      <td>July 1, 2020</td>\n",
       "    </tr>\n",
       "    <tr>\n",
       "      <th>3</th>\n",
       "      <td>b6611af0-f53c-4a08-9ffa-9716dc57eb9c</td>\n",
       "      <td>#blackAF</td>\n",
       "      <td>Kenya Barris and his family navigate relations...</td>\n",
       "      <td>NaN</td>\n",
       "      <td>TV Comedies</td>\n",
       "      <td>Kenya Barris, Rashida Jones, Iman Benson, Genn...</td>\n",
       "      <td>United States</td>\n",
       "      <td>2020.0</td>\n",
       "      <td>TV-MA</td>\n",
       "      <td>1 Season</td>\n",
       "      <td>6.6/10</td>\n",
       "      <td>TV Show</td>\n",
       "      <td>NaN</td>\n",
       "    </tr>\n",
       "    <tr>\n",
       "      <th>4</th>\n",
       "      <td>7f2d4170-bab8-4d75-adc2-197f7124c070</td>\n",
       "      <td>#cats_the_mewvie</td>\n",
       "      <td>This pawesome documentary explores how our fel...</td>\n",
       "      <td>Michael Margolis</td>\n",
       "      <td>Documentaries, International Movies</td>\n",
       "      <td>NaN</td>\n",
       "      <td>Canada</td>\n",
       "      <td>2020.0</td>\n",
       "      <td>TV-14</td>\n",
       "      <td>90 min</td>\n",
       "      <td>5.1/10</td>\n",
       "      <td>Movie</td>\n",
       "      <td>February 5, 2020</td>\n",
       "    </tr>\n",
       "    <tr>\n",
       "      <th>...</th>\n",
       "      <td>...</td>\n",
       "      <td>...</td>\n",
       "      <td>...</td>\n",
       "      <td>...</td>\n",
       "      <td>...</td>\n",
       "      <td>...</td>\n",
       "      <td>...</td>\n",
       "      <td>...</td>\n",
       "      <td>...</td>\n",
       "      <td>...</td>\n",
       "      <td>...</td>\n",
       "      <td>...</td>\n",
       "      <td>...</td>\n",
       "    </tr>\n",
       "    <tr>\n",
       "      <th>5962</th>\n",
       "      <td>62b8b682-f191-4c10-aa04-32319329bd8d</td>\n",
       "      <td>الف مبروك</td>\n",
       "      <td>On his wedding day, an arrogant, greedy accoun...</td>\n",
       "      <td>Ahmed Nader Galal</td>\n",
       "      <td>Comedies, Dramas, International Movies</td>\n",
       "      <td>Ahmed Helmy, Laila Ezz El Arab, Mahmoud El Fis...</td>\n",
       "      <td>Egypt</td>\n",
       "      <td>2009.0</td>\n",
       "      <td>TV-14</td>\n",
       "      <td>115 min</td>\n",
       "      <td>7.4/10</td>\n",
       "      <td>Movie</td>\n",
       "      <td>April 25, 2020</td>\n",
       "    </tr>\n",
       "    <tr>\n",
       "      <th>5963</th>\n",
       "      <td>5bed77ab-5e31-4216-8b51-44c9a35442e6</td>\n",
       "      <td>دفعة القاهرة</td>\n",
       "      <td>A group of women leaves Kuwait to attend unive...</td>\n",
       "      <td>NaN</td>\n",
       "      <td>International TV Shows, TV Dramas</td>\n",
       "      <td>Bashar al-Shatti, Fatima Al Safi, Maram Baloch...</td>\n",
       "      <td>NaN</td>\n",
       "      <td>2019.0</td>\n",
       "      <td>TV-14</td>\n",
       "      <td>1 Season</td>\n",
       "      <td>NaN</td>\n",
       "      <td>TV Show</td>\n",
       "      <td>NaN</td>\n",
       "    </tr>\n",
       "    <tr>\n",
       "      <th>5964</th>\n",
       "      <td>4661ec0c-8692-4661-bc76-a96412b311fd</td>\n",
       "      <td>海的儿子</td>\n",
       "      <td>Two brothers start a new life in Singapore, wh...</td>\n",
       "      <td>NaN</td>\n",
       "      <td>International TV Shows, TV Dramas</td>\n",
       "      <td>Li Nanxing, Christopher Lee, Jesseca Liu, Appl...</td>\n",
       "      <td>NaN</td>\n",
       "      <td>2016.0</td>\n",
       "      <td>TV-14</td>\n",
       "      <td>1 Season</td>\n",
       "      <td>NaN</td>\n",
       "      <td>TV Show</td>\n",
       "      <td>NaN</td>\n",
       "    </tr>\n",
       "    <tr>\n",
       "      <th>5965</th>\n",
       "      <td>145c93a7-1924-403c-a933-4ede8ad66f26</td>\n",
       "      <td>반드시 잡는다</td>\n",
       "      <td>After people in his town start turning up dead...</td>\n",
       "      <td>Hong-seon Kim</td>\n",
       "      <td>Dramas, International Movies, Thrillers</td>\n",
       "      <td>Baek Yoon-sik</td>\n",
       "      <td>South Korea</td>\n",
       "      <td>2017.0</td>\n",
       "      <td>TV-MA</td>\n",
       "      <td>110 min</td>\n",
       "      <td>6.5/10</td>\n",
       "      <td>Movie</td>\n",
       "      <td>February 28, 2018</td>\n",
       "    </tr>\n",
       "    <tr>\n",
       "      <th>5966</th>\n",
       "      <td>d4613d34-cb71-4bd6-b570-fa857f02c44d</td>\n",
       "      <td>최강전사 미니특공대 : 영웅의 탄생</td>\n",
       "      <td>Miniforce, a special task force of elite range...</td>\n",
       "      <td>Young Jun Lee</td>\n",
       "      <td>Children &amp; Family Movies</td>\n",
       "      <td>Um Sang-hyun, Yang Jeong-hwa, Jeon Tae-yeol, S...</td>\n",
       "      <td>NaN</td>\n",
       "      <td>2018.0</td>\n",
       "      <td>TV-Y7</td>\n",
       "      <td>68 min</td>\n",
       "      <td>4.7/10</td>\n",
       "      <td>Movie</td>\n",
       "      <td>September 1, 2018</td>\n",
       "    </tr>\n",
       "  </tbody>\n",
       "</table>\n",
       "<p>5967 rows × 13 columns</p>\n",
       "</div>"
      ],
      "text/plain": [
       "                                   Show Id                          Title  \\\n",
       "0     cc1b6ed9-cf9e-4057-8303-34577fb54477                       (Un)Well   \n",
       "1     e2ef4e91-fb25-42ab-b485-be8e3b23dedb                         #Alive   \n",
       "2     b01b73b7-81f6-47a7-86d8-acb63080d525  #AnneFrank - Parallel Stories   \n",
       "3     b6611af0-f53c-4a08-9ffa-9716dc57eb9c                       #blackAF   \n",
       "4     7f2d4170-bab8-4d75-adc2-197f7124c070               #cats_the_mewvie   \n",
       "...                                    ...                            ...   \n",
       "5962  62b8b682-f191-4c10-aa04-32319329bd8d                      الف مبروك   \n",
       "5963  5bed77ab-5e31-4216-8b51-44c9a35442e6                   دفعة القاهرة   \n",
       "5964  4661ec0c-8692-4661-bc76-a96412b311fd                           海的儿子   \n",
       "5965  145c93a7-1924-403c-a933-4ede8ad66f26                        반드시 잡는다   \n",
       "5966  d4613d34-cb71-4bd6-b570-fa857f02c44d            최강전사 미니특공대 : 영웅의 탄생   \n",
       "\n",
       "                                            Description  \\\n",
       "0     This docuseries takes a deep dive into the luc...   \n",
       "1     As a grisly virus rampages a city, a lone man ...   \n",
       "2     Through her diary, Anne Frank's story is retol...   \n",
       "3     Kenya Barris and his family navigate relations...   \n",
       "4     This pawesome documentary explores how our fel...   \n",
       "...                                                 ...   \n",
       "5962  On his wedding day, an arrogant, greedy accoun...   \n",
       "5963  A group of women leaves Kuwait to attend unive...   \n",
       "5964  Two brothers start a new life in Singapore, wh...   \n",
       "5965  After people in his town start turning up dead...   \n",
       "5966  Miniforce, a special task force of elite range...   \n",
       "\n",
       "                         Director  \\\n",
       "0                             NaN   \n",
       "1                          Cho Il   \n",
       "2     Sabina Fedeli, Anna Migotto   \n",
       "3                             NaN   \n",
       "4                Michael Margolis   \n",
       "...                           ...   \n",
       "5962            Ahmed Nader Galal   \n",
       "5963                          NaN   \n",
       "5964                          NaN   \n",
       "5965                Hong-seon Kim   \n",
       "5966                Young Jun Lee   \n",
       "\n",
       "                                              Genres  \\\n",
       "0                                         Reality TV   \n",
       "1     Horror Movies, International Movies, Thrillers   \n",
       "2                Documentaries, International Movies   \n",
       "3                                        TV Comedies   \n",
       "4                Documentaries, International Movies   \n",
       "...                                              ...   \n",
       "5962          Comedies, Dramas, International Movies   \n",
       "5963               International TV Shows, TV Dramas   \n",
       "5964               International TV Shows, TV Dramas   \n",
       "5965         Dramas, International Movies, Thrillers   \n",
       "5966                        Children & Family Movies   \n",
       "\n",
       "                                                   Cast Production Country  \\\n",
       "0                                                   NaN      United States   \n",
       "1                              Yoo Ah-in, Park Shin-hye        South Korea   \n",
       "2                           Helen Mirren, Gengher Gatti              Italy   \n",
       "3     Kenya Barris, Rashida Jones, Iman Benson, Genn...      United States   \n",
       "4                                                   NaN             Canada   \n",
       "...                                                 ...                ...   \n",
       "5962  Ahmed Helmy, Laila Ezz El Arab, Mahmoud El Fis...              Egypt   \n",
       "5963  Bashar al-Shatti, Fatima Al Safi, Maram Baloch...                NaN   \n",
       "5964  Li Nanxing, Christopher Lee, Jesseca Liu, Appl...                NaN   \n",
       "5965                                      Baek Yoon-sik        South Korea   \n",
       "5966  Um Sang-hyun, Yang Jeong-hwa, Jeon Tae-yeol, S...                NaN   \n",
       "\n",
       "      Release Date Rating  Duration Imdb Score Content Type         Date Added  \n",
       "0           2020.0  TV-MA  1 Season     6.6/10      TV Show                NaN  \n",
       "1           2020.0  TV-MA    99 min     6.2/10        Movie  September 8, 2020  \n",
       "2           2019.0  TV-14    95 min     6.4/10        Movie       July 1, 2020  \n",
       "3           2020.0  TV-MA  1 Season     6.6/10      TV Show                NaN  \n",
       "4           2020.0  TV-14    90 min     5.1/10        Movie   February 5, 2020  \n",
       "...            ...    ...       ...        ...          ...                ...  \n",
       "5962        2009.0  TV-14   115 min     7.4/10        Movie     April 25, 2020  \n",
       "5963        2019.0  TV-14  1 Season        NaN      TV Show                NaN  \n",
       "5964        2016.0  TV-14  1 Season        NaN      TV Show                NaN  \n",
       "5965        2017.0  TV-MA   110 min     6.5/10        Movie  February 28, 2018  \n",
       "5966        2018.0  TV-Y7    68 min     4.7/10        Movie  September 1, 2018  \n",
       "\n",
       "[5967 rows x 13 columns]"
      ]
     },
     "execution_count": 3,
     "metadata": {},
     "output_type": "execute_result"
    }
   ],
   "source": [
    "df = pd.read_csv(\"archive (2).zip\")\n",
    "df"
   ]
  },
  {
   "cell_type": "code",
   "execution_count": 4,
   "id": "74ff6cc2",
   "metadata": {},
   "outputs": [
    {
     "data": {
      "text/html": [
       "<div>\n",
       "<style scoped>\n",
       "    .dataframe tbody tr th:only-of-type {\n",
       "        vertical-align: middle;\n",
       "    }\n",
       "\n",
       "    .dataframe tbody tr th {\n",
       "        vertical-align: top;\n",
       "    }\n",
       "\n",
       "    .dataframe thead th {\n",
       "        text-align: right;\n",
       "    }\n",
       "</style>\n",
       "<table border=\"1\" class=\"dataframe\">\n",
       "  <thead>\n",
       "    <tr style=\"text-align: right;\">\n",
       "      <th></th>\n",
       "      <th>Show Id</th>\n",
       "      <th>Title</th>\n",
       "      <th>Description</th>\n",
       "      <th>Director</th>\n",
       "      <th>Genres</th>\n",
       "      <th>Cast</th>\n",
       "      <th>Production Country</th>\n",
       "      <th>Release Date</th>\n",
       "      <th>Rating</th>\n",
       "      <th>Duration</th>\n",
       "      <th>Imdb Score</th>\n",
       "      <th>Content Type</th>\n",
       "      <th>Date Added</th>\n",
       "    </tr>\n",
       "  </thead>\n",
       "  <tbody>\n",
       "    <tr>\n",
       "      <th>0</th>\n",
       "      <td>cc1b6ed9-cf9e-4057-8303-34577fb54477</td>\n",
       "      <td>(Un)Well</td>\n",
       "      <td>This docuseries takes a deep dive into the luc...</td>\n",
       "      <td>NaN</td>\n",
       "      <td>Reality TV</td>\n",
       "      <td>NaN</td>\n",
       "      <td>United States</td>\n",
       "      <td>2020.0</td>\n",
       "      <td>TV-MA</td>\n",
       "      <td>1 Season</td>\n",
       "      <td>6.6/10</td>\n",
       "      <td>TV Show</td>\n",
       "      <td>NaN</td>\n",
       "    </tr>\n",
       "    <tr>\n",
       "      <th>1</th>\n",
       "      <td>e2ef4e91-fb25-42ab-b485-be8e3b23dedb</td>\n",
       "      <td>#Alive</td>\n",
       "      <td>As a grisly virus rampages a city, a lone man ...</td>\n",
       "      <td>Cho Il</td>\n",
       "      <td>Horror Movies, International Movies, Thrillers</td>\n",
       "      <td>Yoo Ah-in, Park Shin-hye</td>\n",
       "      <td>South Korea</td>\n",
       "      <td>2020.0</td>\n",
       "      <td>TV-MA</td>\n",
       "      <td>99 min</td>\n",
       "      <td>6.2/10</td>\n",
       "      <td>Movie</td>\n",
       "      <td>September 8, 2020</td>\n",
       "    </tr>\n",
       "    <tr>\n",
       "      <th>2</th>\n",
       "      <td>b01b73b7-81f6-47a7-86d8-acb63080d525</td>\n",
       "      <td>#AnneFrank - Parallel Stories</td>\n",
       "      <td>Through her diary, Anne Frank's story is retol...</td>\n",
       "      <td>Sabina Fedeli, Anna Migotto</td>\n",
       "      <td>Documentaries, International Movies</td>\n",
       "      <td>Helen Mirren, Gengher Gatti</td>\n",
       "      <td>Italy</td>\n",
       "      <td>2019.0</td>\n",
       "      <td>TV-14</td>\n",
       "      <td>95 min</td>\n",
       "      <td>6.4/10</td>\n",
       "      <td>Movie</td>\n",
       "      <td>July 1, 2020</td>\n",
       "    </tr>\n",
       "    <tr>\n",
       "      <th>3</th>\n",
       "      <td>b6611af0-f53c-4a08-9ffa-9716dc57eb9c</td>\n",
       "      <td>#blackAF</td>\n",
       "      <td>Kenya Barris and his family navigate relations...</td>\n",
       "      <td>NaN</td>\n",
       "      <td>TV Comedies</td>\n",
       "      <td>Kenya Barris, Rashida Jones, Iman Benson, Genn...</td>\n",
       "      <td>United States</td>\n",
       "      <td>2020.0</td>\n",
       "      <td>TV-MA</td>\n",
       "      <td>1 Season</td>\n",
       "      <td>6.6/10</td>\n",
       "      <td>TV Show</td>\n",
       "      <td>NaN</td>\n",
       "    </tr>\n",
       "    <tr>\n",
       "      <th>4</th>\n",
       "      <td>7f2d4170-bab8-4d75-adc2-197f7124c070</td>\n",
       "      <td>#cats_the_mewvie</td>\n",
       "      <td>This pawesome documentary explores how our fel...</td>\n",
       "      <td>Michael Margolis</td>\n",
       "      <td>Documentaries, International Movies</td>\n",
       "      <td>NaN</td>\n",
       "      <td>Canada</td>\n",
       "      <td>2020.0</td>\n",
       "      <td>TV-14</td>\n",
       "      <td>90 min</td>\n",
       "      <td>5.1/10</td>\n",
       "      <td>Movie</td>\n",
       "      <td>February 5, 2020</td>\n",
       "    </tr>\n",
       "  </tbody>\n",
       "</table>\n",
       "</div>"
      ],
      "text/plain": [
       "                                Show Id                          Title  \\\n",
       "0  cc1b6ed9-cf9e-4057-8303-34577fb54477                       (Un)Well   \n",
       "1  e2ef4e91-fb25-42ab-b485-be8e3b23dedb                         #Alive   \n",
       "2  b01b73b7-81f6-47a7-86d8-acb63080d525  #AnneFrank - Parallel Stories   \n",
       "3  b6611af0-f53c-4a08-9ffa-9716dc57eb9c                       #blackAF   \n",
       "4  7f2d4170-bab8-4d75-adc2-197f7124c070               #cats_the_mewvie   \n",
       "\n",
       "                                         Description  \\\n",
       "0  This docuseries takes a deep dive into the luc...   \n",
       "1  As a grisly virus rampages a city, a lone man ...   \n",
       "2  Through her diary, Anne Frank's story is retol...   \n",
       "3  Kenya Barris and his family navigate relations...   \n",
       "4  This pawesome documentary explores how our fel...   \n",
       "\n",
       "                      Director  \\\n",
       "0                          NaN   \n",
       "1                       Cho Il   \n",
       "2  Sabina Fedeli, Anna Migotto   \n",
       "3                          NaN   \n",
       "4             Michael Margolis   \n",
       "\n",
       "                                           Genres  \\\n",
       "0                                      Reality TV   \n",
       "1  Horror Movies, International Movies, Thrillers   \n",
       "2             Documentaries, International Movies   \n",
       "3                                     TV Comedies   \n",
       "4             Documentaries, International Movies   \n",
       "\n",
       "                                                Cast Production Country  \\\n",
       "0                                                NaN      United States   \n",
       "1                           Yoo Ah-in, Park Shin-hye        South Korea   \n",
       "2                        Helen Mirren, Gengher Gatti              Italy   \n",
       "3  Kenya Barris, Rashida Jones, Iman Benson, Genn...      United States   \n",
       "4                                                NaN             Canada   \n",
       "\n",
       "   Release Date Rating  Duration Imdb Score Content Type         Date Added  \n",
       "0        2020.0  TV-MA  1 Season     6.6/10      TV Show                NaN  \n",
       "1        2020.0  TV-MA    99 min     6.2/10        Movie  September 8, 2020  \n",
       "2        2019.0  TV-14    95 min     6.4/10        Movie       July 1, 2020  \n",
       "3        2020.0  TV-MA  1 Season     6.6/10      TV Show                NaN  \n",
       "4        2020.0  TV-14    90 min     5.1/10        Movie   February 5, 2020  "
      ]
     },
     "execution_count": 4,
     "metadata": {},
     "output_type": "execute_result"
    }
   ],
   "source": [
    "df.head()"
   ]
  },
  {
   "cell_type": "code",
   "execution_count": 5,
   "id": "c0a67213",
   "metadata": {},
   "outputs": [
    {
     "data": {
      "text/plain": [
       "Show Id                  0\n",
       "Title                    0\n",
       "Description              0\n",
       "Director              2064\n",
       "Genres                   0\n",
       "Cast                   530\n",
       "Production Country     559\n",
       "Release Date             3\n",
       "Rating                   4\n",
       "Duration                 3\n",
       "Imdb Score             608\n",
       "Content Type             0\n",
       "Date Added            1335\n",
       "dtype: int64"
      ]
     },
     "execution_count": 5,
     "metadata": {},
     "output_type": "execute_result"
    }
   ],
   "source": [
    "df.isnull().sum()"
   ]
  },
  {
   "cell_type": "code",
   "execution_count": 6,
   "id": "686d9ba5",
   "metadata": {},
   "outputs": [
    {
     "data": {
      "text/html": [
       "<div>\n",
       "<style scoped>\n",
       "    .dataframe tbody tr th:only-of-type {\n",
       "        vertical-align: middle;\n",
       "    }\n",
       "\n",
       "    .dataframe tbody tr th {\n",
       "        vertical-align: top;\n",
       "    }\n",
       "\n",
       "    .dataframe thead th {\n",
       "        text-align: right;\n",
       "    }\n",
       "</style>\n",
       "<table border=\"1\" class=\"dataframe\">\n",
       "  <thead>\n",
       "    <tr style=\"text-align: right;\">\n",
       "      <th></th>\n",
       "      <th>Title</th>\n",
       "      <th>Description</th>\n",
       "      <th>Content Type</th>\n",
       "      <th>Genres</th>\n",
       "    </tr>\n",
       "  </thead>\n",
       "  <tbody>\n",
       "    <tr>\n",
       "      <th>0</th>\n",
       "      <td>(Un)Well</td>\n",
       "      <td>This docuseries takes a deep dive into the luc...</td>\n",
       "      <td>TV Show</td>\n",
       "      <td>Reality TV</td>\n",
       "    </tr>\n",
       "    <tr>\n",
       "      <th>1</th>\n",
       "      <td>#Alive</td>\n",
       "      <td>As a grisly virus rampages a city, a lone man ...</td>\n",
       "      <td>Movie</td>\n",
       "      <td>Horror Movies, International Movies, Thrillers</td>\n",
       "    </tr>\n",
       "    <tr>\n",
       "      <th>2</th>\n",
       "      <td>#AnneFrank - Parallel Stories</td>\n",
       "      <td>Through her diary, Anne Frank's story is retol...</td>\n",
       "      <td>Movie</td>\n",
       "      <td>Documentaries, International Movies</td>\n",
       "    </tr>\n",
       "    <tr>\n",
       "      <th>3</th>\n",
       "      <td>#blackAF</td>\n",
       "      <td>Kenya Barris and his family navigate relations...</td>\n",
       "      <td>TV Show</td>\n",
       "      <td>TV Comedies</td>\n",
       "    </tr>\n",
       "    <tr>\n",
       "      <th>4</th>\n",
       "      <td>#cats_the_mewvie</td>\n",
       "      <td>This pawesome documentary explores how our fel...</td>\n",
       "      <td>Movie</td>\n",
       "      <td>Documentaries, International Movies</td>\n",
       "    </tr>\n",
       "  </tbody>\n",
       "</table>\n",
       "</div>"
      ],
      "text/plain": [
       "                           Title  \\\n",
       "0                       (Un)Well   \n",
       "1                         #Alive   \n",
       "2  #AnneFrank - Parallel Stories   \n",
       "3                       #blackAF   \n",
       "4               #cats_the_mewvie   \n",
       "\n",
       "                                         Description Content Type  \\\n",
       "0  This docuseries takes a deep dive into the luc...      TV Show   \n",
       "1  As a grisly virus rampages a city, a lone man ...        Movie   \n",
       "2  Through her diary, Anne Frank's story is retol...        Movie   \n",
       "3  Kenya Barris and his family navigate relations...      TV Show   \n",
       "4  This pawesome documentary explores how our fel...        Movie   \n",
       "\n",
       "                                           Genres  \n",
       "0                                      Reality TV  \n",
       "1  Horror Movies, International Movies, Thrillers  \n",
       "2             Documentaries, International Movies  \n",
       "3                                     TV Comedies  \n",
       "4             Documentaries, International Movies  "
      ]
     },
     "execution_count": 6,
     "metadata": {},
     "output_type": "execute_result"
    }
   ],
   "source": [
    "df = df[[\"Title\", \"Description\", \"Content Type\" , \"Genres\" ]]\n",
    "df.head()"
   ]
  },
  {
   "cell_type": "code",
   "execution_count": 7,
   "id": "824e0ce7",
   "metadata": {},
   "outputs": [
    {
     "data": {
      "text/plain": [
       "Title           0\n",
       "Description     0\n",
       "Content Type    0\n",
       "Genres          0\n",
       "dtype: int64"
      ]
     },
     "execution_count": 7,
     "metadata": {},
     "output_type": "execute_result"
    }
   ],
   "source": [
    "df.isnull().sum()"
   ]
  },
  {
   "cell_type": "code",
   "execution_count": 8,
   "id": "a73062be",
   "metadata": {},
   "outputs": [
    {
     "data": {
      "text/html": [
       "<div>\n",
       "<style scoped>\n",
       "    .dataframe tbody tr th:only-of-type {\n",
       "        vertical-align: middle;\n",
       "    }\n",
       "\n",
       "    .dataframe tbody tr th {\n",
       "        vertical-align: top;\n",
       "    }\n",
       "\n",
       "    .dataframe thead th {\n",
       "        text-align: right;\n",
       "    }\n",
       "</style>\n",
       "<table border=\"1\" class=\"dataframe\">\n",
       "  <thead>\n",
       "    <tr style=\"text-align: right;\">\n",
       "      <th></th>\n",
       "      <th>Title</th>\n",
       "      <th>Description</th>\n",
       "      <th>Content Type</th>\n",
       "      <th>Genres</th>\n",
       "    </tr>\n",
       "  </thead>\n",
       "  <tbody>\n",
       "    <tr>\n",
       "      <th>0</th>\n",
       "      <td>(Un)Well</td>\n",
       "      <td>This docuseries takes a deep dive into the luc...</td>\n",
       "      <td>TV Show</td>\n",
       "      <td>Reality TV</td>\n",
       "    </tr>\n",
       "    <tr>\n",
       "      <th>1</th>\n",
       "      <td>#Alive</td>\n",
       "      <td>As a grisly virus rampages a city, a lone man ...</td>\n",
       "      <td>Movie</td>\n",
       "      <td>Horror Movies, International Movies, Thrillers</td>\n",
       "    </tr>\n",
       "    <tr>\n",
       "      <th>2</th>\n",
       "      <td>#AnneFrank - Parallel Stories</td>\n",
       "      <td>Through her diary, Anne Frank's story is retol...</td>\n",
       "      <td>Movie</td>\n",
       "      <td>Documentaries, International Movies</td>\n",
       "    </tr>\n",
       "    <tr>\n",
       "      <th>3</th>\n",
       "      <td>#blackAF</td>\n",
       "      <td>Kenya Barris and his family navigate relations...</td>\n",
       "      <td>TV Show</td>\n",
       "      <td>TV Comedies</td>\n",
       "    </tr>\n",
       "    <tr>\n",
       "      <th>4</th>\n",
       "      <td>#cats_the_mewvie</td>\n",
       "      <td>This pawesome documentary explores how our fel...</td>\n",
       "      <td>Movie</td>\n",
       "      <td>Documentaries, International Movies</td>\n",
       "    </tr>\n",
       "    <tr>\n",
       "      <th>...</th>\n",
       "      <td>...</td>\n",
       "      <td>...</td>\n",
       "      <td>...</td>\n",
       "      <td>...</td>\n",
       "    </tr>\n",
       "    <tr>\n",
       "      <th>5962</th>\n",
       "      <td>الف مبروك</td>\n",
       "      <td>On his wedding day, an arrogant, greedy accoun...</td>\n",
       "      <td>Movie</td>\n",
       "      <td>Comedies, Dramas, International Movies</td>\n",
       "    </tr>\n",
       "    <tr>\n",
       "      <th>5963</th>\n",
       "      <td>دفعة القاهرة</td>\n",
       "      <td>A group of women leaves Kuwait to attend unive...</td>\n",
       "      <td>TV Show</td>\n",
       "      <td>International TV Shows, TV Dramas</td>\n",
       "    </tr>\n",
       "    <tr>\n",
       "      <th>5964</th>\n",
       "      <td>海的儿子</td>\n",
       "      <td>Two brothers start a new life in Singapore, wh...</td>\n",
       "      <td>TV Show</td>\n",
       "      <td>International TV Shows, TV Dramas</td>\n",
       "    </tr>\n",
       "    <tr>\n",
       "      <th>5965</th>\n",
       "      <td>반드시 잡는다</td>\n",
       "      <td>After people in his town start turning up dead...</td>\n",
       "      <td>Movie</td>\n",
       "      <td>Dramas, International Movies, Thrillers</td>\n",
       "    </tr>\n",
       "    <tr>\n",
       "      <th>5966</th>\n",
       "      <td>최강전사 미니특공대 : 영웅의 탄생</td>\n",
       "      <td>Miniforce, a special task force of elite range...</td>\n",
       "      <td>Movie</td>\n",
       "      <td>Children &amp; Family Movies</td>\n",
       "    </tr>\n",
       "  </tbody>\n",
       "</table>\n",
       "<p>5967 rows × 4 columns</p>\n",
       "</div>"
      ],
      "text/plain": [
       "                              Title  \\\n",
       "0                          (Un)Well   \n",
       "1                            #Alive   \n",
       "2     #AnneFrank - Parallel Stories   \n",
       "3                          #blackAF   \n",
       "4                  #cats_the_mewvie   \n",
       "...                             ...   \n",
       "5962                      الف مبروك   \n",
       "5963                   دفعة القاهرة   \n",
       "5964                           海的儿子   \n",
       "5965                        반드시 잡는다   \n",
       "5966            최강전사 미니특공대 : 영웅의 탄생   \n",
       "\n",
       "                                            Description Content Type  \\\n",
       "0     This docuseries takes a deep dive into the luc...      TV Show   \n",
       "1     As a grisly virus rampages a city, a lone man ...        Movie   \n",
       "2     Through her diary, Anne Frank's story is retol...        Movie   \n",
       "3     Kenya Barris and his family navigate relations...      TV Show   \n",
       "4     This pawesome documentary explores how our fel...        Movie   \n",
       "...                                                 ...          ...   \n",
       "5962  On his wedding day, an arrogant, greedy accoun...        Movie   \n",
       "5963  A group of women leaves Kuwait to attend unive...      TV Show   \n",
       "5964  Two brothers start a new life in Singapore, wh...      TV Show   \n",
       "5965  After people in his town start turning up dead...        Movie   \n",
       "5966  Miniforce, a special task force of elite range...        Movie   \n",
       "\n",
       "                                              Genres  \n",
       "0                                         Reality TV  \n",
       "1     Horror Movies, International Movies, Thrillers  \n",
       "2                Documentaries, International Movies  \n",
       "3                                        TV Comedies  \n",
       "4                Documentaries, International Movies  \n",
       "...                                              ...  \n",
       "5962          Comedies, Dramas, International Movies  \n",
       "5963               International TV Shows, TV Dramas  \n",
       "5964               International TV Shows, TV Dramas  \n",
       "5965         Dramas, International Movies, Thrillers  \n",
       "5966                        Children & Family Movies  \n",
       "\n",
       "[5967 rows x 4 columns]"
      ]
     },
     "execution_count": 8,
     "metadata": {},
     "output_type": "execute_result"
    }
   ],
   "source": [
    "df = df.dropna()\n",
    "df"
   ]
  },
  {
   "cell_type": "code",
   "execution_count": 9,
   "id": "dbd62be9",
   "metadata": {},
   "outputs": [],
   "source": [
    "import nltk \n",
    "import re # re = regular expression "
   ]
  },
  {
   "cell_type": "code",
   "execution_count": 10,
   "id": "bf422037",
   "metadata": {},
   "outputs": [
    {
     "data": {
      "text/plain": [
       "['.ipynb_checkpoints', 'archive (2).zip', 'code.ipynb']"
      ]
     },
     "execution_count": 10,
     "metadata": {},
     "output_type": "execute_result"
    }
   ],
   "source": [
    "os.listdir()"
   ]
  },
  {
   "cell_type": "code",
   "execution_count": 11,
   "id": "bc31b045",
   "metadata": {},
   "outputs": [
    {
     "name": "stderr",
     "output_type": "stream",
     "text": [
      "[nltk_data] Downloading package stopwords to\n",
      "[nltk_data]     C:\\Users\\jasva\\AppData\\Roaming\\nltk_data...\n",
      "[nltk_data]   Package stopwords is already up-to-date!\n"
     ]
    },
    {
     "data": {
      "text/plain": [
       "True"
      ]
     },
     "execution_count": 11,
     "metadata": {},
     "output_type": "execute_result"
    }
   ],
   "source": [
    "nltk.download('stopwords')"
   ]
  },
  {
   "cell_type": "code",
   "execution_count": 12,
   "id": "79ca3f1b",
   "metadata": {},
   "outputs": [],
   "source": [
    "stemmer = nltk.SnowballStemmer(\"english\")\n",
    "from nltk.corpus import stopwords # load stopwords\n",
    "import string \n",
    "stopword = set(stopwords.words('english'))"
   ]
  },
  {
   "cell_type": "code",
   "execution_count": 13,
   "id": "a5e38fef",
   "metadata": {},
   "outputs": [],
   "source": [
    "def clean(text):\n",
    "    text = str(text).lower()\n",
    "    text = re.sub('\\[.*?\\]','', text)\n",
    "    text = re.sub('https?://S+|www\\.\\S+','', text)\n",
    "    text = re.sub('<.*?>+', '' , text)\n",
    "    text = re.sub('[%s]' % re.escape(string.punctuation),'', text)\n",
    "    text = re.sub('\\n','', text)\n",
    "    text = re.sub('\\w\\d\\w*','',text)\n",
    "    text = [word for word in text.split(' ') if word not in stopwords]\n",
    "    text = \" \".join(text) \n"
   ]
  },
  {
   "cell_type": "code",
   "execution_count": 14,
   "id": "7725897d",
   "metadata": {},
   "outputs": [],
   "source": [
    "#df[\"Title\"] = df[\"Title\"].apply(clean)"
   ]
  },
  {
   "cell_type": "code",
   "execution_count": 15,
   "id": "635d6776",
   "metadata": {},
   "outputs": [
    {
     "data": {
      "text/plain": [
       "4807                                   The Exception\n",
       "4180    Seven Souls in the Skull Castle: Season Bird\n",
       "616                                       Best Lover\n",
       "5110                                     The Patriot\n",
       "953                                             Chef\n",
       "5501                                        Triple 9\n",
       "165                                  A Way Back Home\n",
       "5898                                         YES DAY\n",
       "5507                                    Trollhunters\n",
       "2356                  Jen Kirkman: Just Keep Livin’?\n",
       "Name: Title, dtype: object"
      ]
     },
     "execution_count": 15,
     "metadata": {},
     "output_type": "execute_result"
    }
   ],
   "source": [
    "df.Title.sample(10)"
   ]
  },
  {
   "cell_type": "code",
   "execution_count": 16,
   "id": "417125ab",
   "metadata": {},
   "outputs": [
    {
     "data": {
      "text/plain": [
       "Index(['Title', 'Description', 'Content Type', 'Genres'], dtype='object')"
      ]
     },
     "execution_count": 16,
     "metadata": {},
     "output_type": "execute_result"
    }
   ],
   "source": [
    "df.columns"
   ]
  },
  {
   "cell_type": "code",
   "execution_count": 17,
   "id": "3b3d0e4f",
   "metadata": {},
   "outputs": [
    {
     "data": {
      "text/plain": [
       "0                                           Reality TV\n",
       "1       Horror Movies, International Movies, Thrillers\n",
       "2                  Documentaries, International Movies\n",
       "3                                          TV Comedies\n",
       "4                  Documentaries, International Movies\n",
       "                             ...                      \n",
       "5962            Comedies, Dramas, International Movies\n",
       "5963                 International TV Shows, TV Dramas\n",
       "5964                 International TV Shows, TV Dramas\n",
       "5965           Dramas, International Movies, Thrillers\n",
       "5966                          Children & Family Movies\n",
       "Name: Genres, Length: 5967, dtype: object"
      ]
     },
     "execution_count": 17,
     "metadata": {},
     "output_type": "execute_result"
    }
   ],
   "source": [
    "df.Genres"
   ]
  },
  {
   "cell_type": "code",
   "execution_count": 18,
   "id": "f230da55",
   "metadata": {},
   "outputs": [
    {
     "data": {
      "text/plain": [
       "20              Crime TV Shows, TV Dramas, TV Mysteries\n",
       "21                           Crime TV Shows, Docuseries\n",
       "22                                        Documentaries\n",
       "23                                        Documentaries\n",
       "24                 Comedies, Dramas, Independent Movies\n",
       "                            ...                        \n",
       "95    Children & Family Movies, Dramas, Romantic Movies\n",
       "96    Children & Family Movies, Dramas, Romantic Movies\n",
       "97                                               Movies\n",
       "98    Children & Family Movies, Comedies, Music & Mu...\n",
       "99                  Horror Movies, International Movies\n",
       "Name: Genres, Length: 80, dtype: object"
      ]
     },
     "execution_count": 18,
     "metadata": {},
     "output_type": "execute_result"
    }
   ],
   "source": [
    "df.Genres[20:100]"
   ]
  },
  {
   "cell_type": "code",
   "execution_count": 19,
   "id": "405ef9d0",
   "metadata": {},
   "outputs": [],
   "source": [
    "from sklearn.feature_extraction.text import TfidfVectorizer \n",
    "from sklearn.metrics.pairwise import cosine_similarity"
   ]
  },
  {
   "cell_type": "code",
   "execution_count": 20,
   "id": "d2f6eb9e",
   "metadata": {},
   "outputs": [],
   "source": [
    "feature = df['Genres'].tolist()\n",
    "\n",
    "#Create an instance of TF-IDF-Vectorizer\n",
    "tfidf = TfidfVectorizer(stop_words=\"english\")\n",
    "\n",
    "# Fit and transform the vectorizer on our corpus \n",
    "tfidf_matrix = tfidf.fit_transform(feature)\n",
    "\n",
    "#Compute the cosine similarity matrix similarity \n",
    "similarity = cosine_similarity(tfidf_matrix)\n",
    "indices = pd.Series(df.index,\n",
    "                   index=df['Title']).drop_duplicates()"
   ]
  },
  {
   "cell_type": "code",
   "execution_count": 21,
   "id": "1c94c824",
   "metadata": {},
   "outputs": [],
   "source": [
    "def netflix_recommendation(title):\n",
    "    try:\n",
    "        index = indices [title]\n",
    "        similarity_scores = list(enumerate (similarity [index]))\n",
    "        similarity_scores = sorted (similarity_scores, key=lambda x: x[1] , reverse = True)\n",
    "        similarity_scores = similarity_scores [0:10]\n",
    "        movieindices = [i[0] for i in similarity_scores]\n",
    "        return df['Title'].iloc[movieindices]\n",
    "    except:\n",
    "        print(title , \" not in Database\")"
   ]
  },
  {
   "cell_type": "code",
   "execution_count": 22,
   "id": "464ba752",
   "metadata": {},
   "outputs": [
    {
     "name": "stdout",
     "output_type": "stream",
     "text": [
      "Title\n",
      "(Un)Well                            0\n",
      "#Alive                              1\n",
      "#AnneFrank - Parallel Stories       2\n",
      "#blackAF                            3\n",
      "#cats_the_mewvie                    4\n",
      "                                 ... \n",
      "الف مبروك                        5962\n",
      "دفعة القاهرة                     5963\n",
      "海的儿子                             5964\n",
      "반드시 잡는다                          5965\n",
      "최강전사 미니특공대 : 영웅의 탄생              5966\n",
      "Length: 5967, dtype: int64\n"
     ]
    }
   ],
   "source": [
    "print(indices)"
   ]
  },
  {
   "cell_type": "code",
   "execution_count": 23,
   "id": "c1e3946c",
   "metadata": {},
   "outputs": [
    {
     "name": "stdout",
     "output_type": "stream",
     "text": [
      "1\n"
     ]
    }
   ],
   "source": [
    "print(indices[\"#Alive\"])"
   ]
  },
  {
   "cell_type": "code",
   "execution_count": 24,
   "id": "6755be88",
   "metadata": {},
   "outputs": [
    {
     "data": {
      "text/plain": [
       "1                           #Alive\n",
       "178                         Aaviri\n",
       "360                   Andhaghaaram\n",
       "361                    Andhakaaram\n",
       "398                        Apostle\n",
       "1759     Game Over (Hindi Version)\n",
       "1760     Game Over (Tamil Version)\n",
       "1761    Game Over (Telugu Version)\n",
       "1801                     Ghost Lab\n",
       "1804                 Ghost Stories\n",
       "Name: Title, dtype: object"
      ]
     },
     "execution_count": 24,
     "metadata": {},
     "output_type": "execute_result"
    }
   ],
   "source": [
    "netflix_recommendation(\"#Alive\")"
   ]
  },
  {
   "cell_type": "code",
   "execution_count": 25,
   "id": "cba73f51",
   "metadata": {},
   "outputs": [
    {
     "name": "stdout",
     "output_type": "stream",
     "text": [
      "Tiger 3  not in Database\n"
     ]
    }
   ],
   "source": [
    "netflix_recommendation(\"Tiger 3\")"
   ]
  },
  {
   "cell_type": "code",
   "execution_count": 26,
   "id": "177b1681",
   "metadata": {},
   "outputs": [
    {
     "data": {
      "text/plain": [
       "173       Aakhri Adaalat\n",
       "197    Acts of Vengeance\n",
       "484            Baadshaho\n",
       "485               Baaghi\n",
       "530         Bang Rajan 2\n",
       "598           Below Zero\n",
       "685                Black\n",
       "688          Black Beach\n",
       "808       Brick Mansions\n",
       "844             Burn Out\n",
       "Name: Title, dtype: object"
      ]
     },
     "execution_count": 26,
     "metadata": {},
     "output_type": "execute_result"
    }
   ],
   "source": [
    "netflix_recommendation(\"Hero\")"
   ]
  },
  {
   "cell_type": "code",
   "execution_count": null,
   "id": "5050b222",
   "metadata": {},
   "outputs": [],
   "source": []
  }
 ],
 "metadata": {
  "kernelspec": {
   "display_name": "Python 3 (ipykernel)",
   "language": "python",
   "name": "python3"
  },
  "language_info": {
   "codemirror_mode": {
    "name": "ipython",
    "version": 3
   },
   "file_extension": ".py",
   "mimetype": "text/x-python",
   "name": "python",
   "nbconvert_exporter": "python",
   "pygments_lexer": "ipython3",
   "version": "3.11.4"
  }
 },
 "nbformat": 4,
 "nbformat_minor": 5
}
